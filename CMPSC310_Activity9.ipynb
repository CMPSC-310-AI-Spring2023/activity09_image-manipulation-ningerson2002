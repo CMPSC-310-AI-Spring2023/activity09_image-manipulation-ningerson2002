{
  "nbformat": 4,
  "nbformat_minor": 0,
  "metadata": {
    "colab": {
      "provenance": [],
      "include_colab_link": true
    },
    "kernelspec": {
      "name": "python3",
      "display_name": "Python 3"
    },
    "language_info": {
      "name": "python"
    }
  },
  "cells": [
    {
      "cell_type": "markdown",
      "metadata": {
        "id": "view-in-github",
        "colab_type": "text"
      },
      "source": [
        "<a href=\"https://colab.research.google.com/github/CMPSC-310-AI-Spring2023/activity09_image-manipulation-ningerson2002/blob/main/CMPSC310_Activity9.ipynb\" target=\"_parent\"><img src=\"https://colab.research.google.com/assets/colab-badge.svg\" alt=\"Open In Colab\"/></a>"
      ]
    },
    {
      "cell_type": "markdown",
      "source": [
        "# **Activity 9: Image Manipulation **\n"
      ],
      "metadata": {
        "id": "vcrrIOhGjS0Z"
      }
    },
    {
      "cell_type": "code",
      "source": [
        "import numpy as np\n",
        "import cv2\n",
        "\n",
        "rect = np.zeros((300,300), dtype=\"uint8\")\n",
        "cv2.rectangle(rect, (25,25), (275,275), 255, -1)\n",
        "cv2.imwrite(\"bitwise/Rectangle.png\", rect)\n",
        "\n",
        "circ = np.zeros((300,300), dtype=\"uint8\")\n",
        "cv2.circle(circ, (150,150), 150, 255, -1)\n",
        "cv2.imwrite(\"bitwise/Circle.png\", circ)\n",
        "\n",
        "bitwiseAnd = cv2.bitwise_and(rect, circ)\n",
        "cv2.imwrite(\"bitwise/AND.png\", bitwiseAnd)\n",
        "\n",
        "bitwiseOr = cv2.bitwise_or(rect, circ)\n",
        "cv2.imwrite(\"bitwise/OR.png\", bitwiseOr)\n",
        "\n",
        "bitwiseXor = cv2.bitwise_xor(rect, circ)\n",
        "cv2.imwrite(\"bitwise/XOR.png\", bitwiseXor)\n",
        "\n",
        "bitwiseNot = cv2.bitwise_not(rect,circ)\n",
        "cv2.imwrite(\"bitwise/NOT.png\", bitwiseNot)"
      ],
      "metadata": {
        "colab": {
          "base_uri": "https://localhost:8080/"
        },
        "id": "w7hXTIirN8Wv",
        "outputId": "ca6fcb74-d55d-45e2-9ba9-b3de996d1b9c"
      },
      "execution_count": null,
      "outputs": [
        {
          "output_type": "execute_result",
          "data": {
            "text/plain": [
              "True"
            ]
          },
          "metadata": {},
          "execution_count": 11
        }
      ]
    },
    {
      "cell_type": "code",
      "source": [
        "from google.colab import drive\n",
        "drive.mount('/content/drive')"
      ],
      "metadata": {
        "colab": {
          "base_uri": "https://localhost:8080/"
        },
        "id": "VHXapthGfKg8",
        "outputId": "c377afd2-9e3d-4a0d-a2a0-77da2f3f258d"
      },
      "execution_count": 1,
      "outputs": [
        {
          "output_type": "stream",
          "name": "stdout",
          "text": [
            "Mounted at /content/drive\n"
          ]
        }
      ]
    },
    {
      "cell_type": "code",
      "source": [
        "import numpy as np\n",
        "import cv2\n",
        "image = cv2.imread(\"/content/drive/MyDrive/school/sophomoreYear/springSemester/CMPSC310/Colab Notebooks/images/flint1.jpg\")\n",
        "print(image.shape)\n",
        "\n",
        "mask = np.zeros(image.shape[:2], dtype=\"uint8\")\n",
        "(cX, cY) = (image.shape[1] // 2, image.shape[0] // 2)\n",
        "cv2.rectangle(mask, (cX - 75, cY - 75), (cX + 75, cY + 75), 255, -1)\n",
        "cv2.imwrite(\"/content/drive/MyDrive/school/sophomoreYear/springSemester/CMPSC310/Colab Notebooks/mask1.png\", mask)\n",
        "\n",
        "masked = cv2.bitwise_and(image, image, mask=mask)\n",
        "cv2.imwrite(\"/content/drive/MyDrive/school/sophomoreYear/springSemester/CMPSC310/Colab Notebooks/masked1.png\", masked)\n",
        "\n",
        "mask = np.zeros(image.shape[:2], dtype=\"uint8\")\n",
        "cv2.circle(mask, (cX, cY), 100, 255, -1)\n",
        "cv2.imwrite(\"/content/drive/MyDrive/school/sophomoreYear/springSemester/CMPSC310/Colab Notebooks/mask2.png\", mask)\n",
        "\n",
        "masked = cv2.bitwise_and(image, image, mask=mask)\n",
        "cv2.imwrite(\"/content/drive/MyDrive/school/sophomoreYear/springSemester/CMPSC310/Colab Notebooks/masked2.png\", masked)\n",
        "\n",
        "gray = cv2.cvtColor(masked, cv2.COLOR_BGR2GRAY)\n",
        "cv2.imwrite(\"gray.png\", gray)"
      ],
      "metadata": {
        "colab": {
          "base_uri": "https://localhost:8080/"
        },
        "id": "unX0AsASSKPR",
        "outputId": "bd3274fe-9909-4c53-a876-3855059fab83"
      },
      "execution_count": 15,
      "outputs": [
        {
          "output_type": "stream",
          "name": "stdout",
          "text": [
            "(467, 350, 3)\n"
          ]
        },
        {
          "output_type": "execute_result",
          "data": {
            "text/plain": [
              "True"
            ]
          },
          "metadata": {},
          "execution_count": 15
        }
      ]
    },
    {
      "cell_type": "code",
      "source": [
        "import numpy as np\n",
        "import cv2\n",
        "\n",
        "image = cv2.imread(\"/content/drive/MyDrive/school/sophomoreYear/springSemester/CMPSC310/Colab Notebooks/images/awards.png\")\n",
        "print(image.shape)\n",
        "\n",
        "mask = np.zeros(image.shape[:2], dtype=\"uint8\")\n",
        "(cX, cY) = (image.shape[1] // 3, image.shape[0] // 3)\n",
        "cv2.rectangle(mask, (cX - 750, cY - 200), (cX + 2075, cY + 300), 255, -1)\n",
        "cv2.imwrite(\"/content/drive/MyDrive/school/sophomoreYear/springSemester/CMPSC310/Colab Notebooks/mask3.png\", mask)\n",
        "\n",
        "masked = cv2.bitwise_and(image, image, mask=mask)\n",
        "cv2.imwrite(\"/content/drive/MyDrive/school/sophomoreYear/springSemester/CMPSC310/Colab Notebooks/masked3.png\", masked)"
      ],
      "metadata": {
        "colab": {
          "base_uri": "https://localhost:8080/"
        },
        "id": "9hE4UwYchV29",
        "outputId": "34254b68-9715-4086-b60f-2922fcdd894a"
      },
      "execution_count": 37,
      "outputs": [
        {
          "output_type": "stream",
          "name": "stdout",
          "text": [
            "(3024, 4032, 3)\n"
          ]
        },
        {
          "output_type": "execute_result",
          "data": {
            "text/plain": [
              "True"
            ]
          },
          "metadata": {},
          "execution_count": 37
        }
      ]
    }
  ]
}